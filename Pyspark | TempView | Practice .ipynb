{
 "cells": [
  {
   "cell_type": "code",
   "execution_count": 1,
   "id": "1fe82c7c",
   "metadata": {
    "_cell_guid": "b1076dfc-b9ad-4769-8c92-a6c4dae69d19",
    "_uuid": "8f2839f25d086af736a60e9eeb907d3b93b6e0e5",
    "execution": {
     "iopub.execute_input": "2024-09-25T09:25:18.572067Z",
     "iopub.status.busy": "2024-09-25T09:25:18.571557Z",
     "iopub.status.idle": "2024-09-25T09:26:15.287362Z",
     "shell.execute_reply": "2024-09-25T09:26:15.285374Z"
    },
    "papermill": {
     "duration": 56.733178,
     "end_time": "2024-09-25T09:26:15.290493",
     "exception": false,
     "start_time": "2024-09-25T09:25:18.557315",
     "status": "completed"
    },
    "tags": []
   },
   "outputs": [
    {
     "name": "stdout",
     "output_type": "stream",
     "text": [
      "Collecting pyspark\r\n",
      "  Downloading pyspark-3.5.3.tar.gz (317.3 MB)\r\n",
      "\u001b[2K     \u001b[90m━━━━━━━━━━━━━━━━━━━━━━━━━━━━━━━━━━━━━━━\u001b[0m \u001b[32m317.3/317.3 MB\u001b[0m \u001b[31m4.2 MB/s\u001b[0m eta \u001b[36m0:00:00\u001b[0m\r\n",
      "\u001b[?25h  Preparing metadata (setup.py) ... \u001b[?25l-\b \b\\\b \bdone\r\n",
      "\u001b[?25hRequirement already satisfied: py4j==0.10.9.7 in /opt/conda/lib/python3.10/site-packages (from pyspark) (0.10.9.7)\r\n",
      "Building wheels for collected packages: pyspark\r\n",
      "  Building wheel for pyspark (setup.py) ... \u001b[?25l-\b \b\\\b \b|\b \bdone\r\n",
      "\u001b[?25h  Created wheel for pyspark: filename=pyspark-3.5.3-py2.py3-none-any.whl size=317840629 sha256=720699bd50fb0e77d6af0b9473789b4dc292635a22521845e5986b7663f6b342\r\n",
      "  Stored in directory: /root/.cache/pip/wheels/1b/3a/92/28b93e2fbfdbb07509ca4d6f50c5e407f48dce4ddbda69a4ab\r\n",
      "Successfully built pyspark\r\n",
      "Installing collected packages: pyspark\r\n",
      "Successfully installed pyspark-3.5.3\r\n",
      "Note: you may need to restart the kernel to use updated packages.\n"
     ]
    }
   ],
   "source": [
    "pip install pyspark\n"
   ]
  },
  {
   "cell_type": "markdown",
   "id": "6e7a5f64",
   "metadata": {
    "papermill": {
     "duration": 0.02109,
     "end_time": "2024-09-25T09:26:15.333556",
     "exception": false,
     "start_time": "2024-09-25T09:26:15.312466",
     "status": "completed"
    },
    "tags": []
   },
   "source": [
    "# Importing Libraries"
   ]
  },
  {
   "cell_type": "code",
   "execution_count": 2,
   "id": "0875ca22",
   "metadata": {
    "execution": {
     "iopub.execute_input": "2024-09-25T09:26:15.379438Z",
     "iopub.status.busy": "2024-09-25T09:26:15.378988Z",
     "iopub.status.idle": "2024-09-25T09:26:18.052043Z",
     "shell.execute_reply": "2024-09-25T09:26:18.050833Z"
    },
    "papermill": {
     "duration": 2.699492,
     "end_time": "2024-09-25T09:26:18.054810",
     "exception": false,
     "start_time": "2024-09-25T09:26:15.355318",
     "status": "completed"
    },
    "tags": []
   },
   "outputs": [],
   "source": [
    "from pyspark.sql import SparkSession, functions as F\n",
    "from pyspark import SparkConf, SparkContext\n",
    "from pyspark.sql.types import *\n",
    "from pyspark.sql.functions import *\n",
    "import warnings\n",
    "warnings.filterwarnings(\"ignore\")\n",
    "import pandas as pd\n",
    "import matplotlib.pyplot as plt\n",
    "import seaborn as sns"
   ]
  },
  {
   "cell_type": "markdown",
   "id": "b03148d1",
   "metadata": {
    "papermill": {
     "duration": 0.021,
     "end_time": "2024-09-25T09:26:18.098094",
     "exception": false,
     "start_time": "2024-09-25T09:26:18.077094",
     "status": "completed"
    },
    "tags": []
   },
   "source": [
    "**Building Session**"
   ]
  },
  {
   "cell_type": "code",
   "execution_count": 3,
   "id": "a3adfbb2",
   "metadata": {
    "execution": {
     "iopub.execute_input": "2024-09-25T09:26:18.144513Z",
     "iopub.status.busy": "2024-09-25T09:26:18.143790Z",
     "iopub.status.idle": "2024-09-25T09:26:23.846497Z",
     "shell.execute_reply": "2024-09-25T09:26:23.845155Z"
    },
    "papermill": {
     "duration": 5.729219,
     "end_time": "2024-09-25T09:26:23.849454",
     "exception": false,
     "start_time": "2024-09-25T09:26:18.120235",
     "status": "completed"
    },
    "tags": []
   },
   "outputs": [
    {
     "name": "stderr",
     "output_type": "stream",
     "text": [
      "Setting default log level to \"WARN\".\n",
      "To adjust logging level use sc.setLogLevel(newLevel). For SparkR, use setLogLevel(newLevel).\n",
      "24/09/25 09:26:21 WARN NativeCodeLoader: Unable to load native-hadoop library for your platform... using builtin-java classes where applicable\n"
     ]
    }
   ],
   "source": [
    "spark = SparkSession.builder.appName('Pyspark | TempView Practice').getOrCreate()"
   ]
  },
  {
   "cell_type": "code",
   "execution_count": 4,
   "id": "dac03f4b",
   "metadata": {
    "execution": {
     "iopub.execute_input": "2024-09-25T09:26:23.895126Z",
     "iopub.status.busy": "2024-09-25T09:26:23.894585Z",
     "iopub.status.idle": "2024-09-25T09:26:25.103297Z",
     "shell.execute_reply": "2024-09-25T09:26:25.102221Z"
    },
    "papermill": {
     "duration": 1.236328,
     "end_time": "2024-09-25T09:26:25.107392",
     "exception": false,
     "start_time": "2024-09-25T09:26:23.871064",
     "status": "completed"
    },
    "tags": []
   },
   "outputs": [
    {
     "data": {
      "text/html": [
       "\n",
       "            <div>\n",
       "                <p><b>SparkSession - in-memory</b></p>\n",
       "                \n",
       "        <div>\n",
       "            <p><b>SparkContext</b></p>\n",
       "\n",
       "            <p><a href=\"http://37ae7b461898:4040\">Spark UI</a></p>\n",
       "\n",
       "            <dl>\n",
       "              <dt>Version</dt>\n",
       "                <dd><code>v3.5.3</code></dd>\n",
       "              <dt>Master</dt>\n",
       "                <dd><code>local[*]</code></dd>\n",
       "              <dt>AppName</dt>\n",
       "                <dd><code>Pyspark | TempView Practice</code></dd>\n",
       "            </dl>\n",
       "        </div>\n",
       "        \n",
       "            </div>\n",
       "        "
      ],
      "text/plain": [
       "<pyspark.sql.session.SparkSession at 0x7d22dafbe440>"
      ]
     },
     "execution_count": 4,
     "metadata": {},
     "output_type": "execute_result"
    }
   ],
   "source": [
    "spark"
   ]
  },
  {
   "cell_type": "markdown",
   "id": "43e6023c",
   "metadata": {
    "papermill": {
     "duration": 0.02383,
     "end_time": "2024-09-25T09:26:25.165371",
     "exception": false,
     "start_time": "2024-09-25T09:26:25.141541",
     "status": "completed"
    },
    "tags": []
   },
   "source": [
    "**Loading Dataset**"
   ]
  },
  {
   "cell_type": "code",
   "execution_count": 5,
   "id": "f3e28271",
   "metadata": {
    "execution": {
     "iopub.execute_input": "2024-09-25T09:26:25.213746Z",
     "iopub.status.busy": "2024-09-25T09:26:25.212752Z",
     "iopub.status.idle": "2024-09-25T09:26:31.179262Z",
     "shell.execute_reply": "2024-09-25T09:26:31.177711Z"
    },
    "papermill": {
     "duration": 5.994413,
     "end_time": "2024-09-25T09:26:31.183016",
     "exception": false,
     "start_time": "2024-09-25T09:26:25.188603",
     "status": "completed"
    },
    "tags": []
   },
   "outputs": [
    {
     "name": "stderr",
     "output_type": "stream",
     "text": [
      "                                                                                \r"
     ]
    }
   ],
   "source": [
    "df = spark.read.csv('/kaggle/input/pyspark-tempview-practice-csv/Pyspark _ Predict Salary - Sheet1.csv', inferSchema = True, header = True)"
   ]
  },
  {
   "cell_type": "markdown",
   "id": "8a5fefae",
   "metadata": {
    "papermill": {
     "duration": 0.022661,
     "end_time": "2024-09-25T09:26:31.232950",
     "exception": false,
     "start_time": "2024-09-25T09:26:31.210289",
     "status": "completed"
    },
    "tags": []
   },
   "source": [
    "# Explorartory Data Analysis"
   ]
  },
  {
   "cell_type": "code",
   "execution_count": 6,
   "id": "393397b1",
   "metadata": {
    "execution": {
     "iopub.execute_input": "2024-09-25T09:26:31.283119Z",
     "iopub.status.busy": "2024-09-25T09:26:31.282545Z",
     "iopub.status.idle": "2024-09-25T09:26:31.706315Z",
     "shell.execute_reply": "2024-09-25T09:26:31.705188Z"
    },
    "papermill": {
     "duration": 0.454288,
     "end_time": "2024-09-25T09:26:31.710244",
     "exception": false,
     "start_time": "2024-09-25T09:26:31.255956",
     "status": "completed"
    },
    "tags": []
   },
   "outputs": [
    {
     "name": "stdout",
     "output_type": "stream",
     "text": [
      "+---------+---+----------+------+\n",
      "|     Name|Age|Experience|Salary|\n",
      "+---------+---+----------+------+\n",
      "|     Adam| 32|         8| 17000|\n",
      "|     John| 31|         7| 16000|\n",
      "|    Chris| 34|        10| 30000|\n",
      "|  Charles| 21|         3| 12000|\n",
      "|     Paul| 24|         5| 15000|\n",
      "|    David| 25|         5| 15000|\n",
      "|  Indiana| 43|        12| 32000|\n",
      "|    Linda| 32|         8| 17000|\n",
      "|Elizabwth| 20|         2| 11000|\n",
      "+---------+---+----------+------+\n",
      "\n"
     ]
    }
   ],
   "source": [
    "df.show()"
   ]
  },
  {
   "cell_type": "markdown",
   "id": "9d02fa79",
   "metadata": {
    "papermill": {
     "duration": 0.028508,
     "end_time": "2024-09-25T09:26:31.771960",
     "exception": false,
     "start_time": "2024-09-25T09:26:31.743452",
     "status": "completed"
    },
    "tags": []
   },
   "source": [
    "# Experience VS Salary"
   ]
  },
  {
   "cell_type": "code",
   "execution_count": 7,
   "id": "776b2647",
   "metadata": {
    "execution": {
     "iopub.execute_input": "2024-09-25T09:26:31.820581Z",
     "iopub.status.busy": "2024-09-25T09:26:31.819386Z",
     "iopub.status.idle": "2024-09-25T09:26:32.470542Z",
     "shell.execute_reply": "2024-09-25T09:26:32.469209Z"
    },
    "papermill": {
     "duration": 0.67879,
     "end_time": "2024-09-25T09:26:32.473530",
     "exception": false,
     "start_time": "2024-09-25T09:26:31.794740",
     "status": "completed"
    },
    "tags": []
   },
   "outputs": [
    {
     "data": {
      "image/png": "[encoded data removed]",
      "text/plain": [
       "<Figure size 500x500 with 1 Axes>"
      ]
     },
     "metadata": {},
     "output_type": "display_data"
    }
   ],
   "source": [
    "pandas_df = df.toPandas()\n",
    "plt.figure(figsize=(5,5))\n",
    "plt.plot(pandas_df['Experience'], pandas_df['Salary'], marker='o')\n",
    "plt.title(\"Experience VS Salary\")\n",
    "plt.xlabel('Experience')\n",
    "plt.ylabel('Salary')\n",
    "plt.grid(True)\n",
    "plt.show()"
   ]
  },
  {
   "cell_type": "code",
   "execution_count": 8,
   "id": "4e7f58bd",
   "metadata": {
    "execution": {
     "iopub.execute_input": "2024-09-25T09:26:32.522825Z",
     "iopub.status.busy": "2024-09-25T09:26:32.522374Z",
     "iopub.status.idle": "2024-09-25T09:26:33.838243Z",
     "shell.execute_reply": "2024-09-25T09:26:33.837071Z"
    },
    "papermill": {
     "duration": 1.34456,
     "end_time": "2024-09-25T09:26:33.841829",
     "exception": false,
     "start_time": "2024-09-25T09:26:32.497269",
     "status": "completed"
    },
    "tags": []
   },
   "outputs": [
    {
     "name": "stdout",
     "output_type": "stream",
     "text": [
      "+----------+-----+\n",
      "|Experience|count|\n",
      "+----------+-----+\n",
      "|        12|    1|\n",
      "|         3|    1|\n",
      "|         5|    2|\n",
      "|         8|    2|\n",
      "|         7|    1|\n",
      "|        10|    1|\n",
      "|         2|    1|\n",
      "+----------+-----+\n",
      "\n"
     ]
    }
   ],
   "source": [
    "df_grouped_by_experience = df.groupBy(col(\"Experience\")).count()\n",
    "df_grouped_by_experience.show()"
   ]
  },
  {
   "cell_type": "code",
   "execution_count": 9,
   "id": "a232c89a",
   "metadata": {
    "execution": {
     "iopub.execute_input": "2024-09-25T09:26:33.912818Z",
     "iopub.status.busy": "2024-09-25T09:26:33.912199Z",
     "iopub.status.idle": "2024-09-25T09:26:34.335014Z",
     "shell.execute_reply": "2024-09-25T09:26:34.333799Z"
    },
    "papermill": {
     "duration": 0.46248,
     "end_time": "2024-09-25T09:26:34.338432",
     "exception": false,
     "start_time": "2024-09-25T09:26:33.875952",
     "status": "completed"
    },
    "tags": []
   },
   "outputs": [
    {
     "name": "stdout",
     "output_type": "stream",
     "text": [
      "+---+-----+\n",
      "|Age|count|\n",
      "+---+-----+\n",
      "| 31|    1|\n",
      "| 34|    1|\n",
      "| 20|    1|\n",
      "| 43|    1|\n",
      "| 25|    1|\n",
      "| 24|    1|\n",
      "| 21|    1|\n",
      "| 32|    2|\n",
      "+---+-----+\n",
      "\n"
     ]
    }
   ],
   "source": [
    "df_grouped_by_age = df.groupBy(col('Age')).count()\n",
    "df_grouped_by_age.show()"
   ]
  },
  {
   "cell_type": "markdown",
   "id": "6db94a29",
   "metadata": {
    "papermill": {
     "duration": 0.028094,
     "end_time": "2024-09-25T09:26:34.400398",
     "exception": false,
     "start_time": "2024-09-25T09:26:34.372304",
     "status": "completed"
    },
    "tags": []
   },
   "source": [
    "# Creating Temporary View Table"
   ]
  },
  {
   "cell_type": "code",
   "execution_count": 10,
   "id": "29d19729",
   "metadata": {
    "execution": {
     "iopub.execute_input": "2024-09-25T09:26:34.449238Z",
     "iopub.status.busy": "2024-09-25T09:26:34.448808Z",
     "iopub.status.idle": "2024-09-25T09:26:34.602532Z",
     "shell.execute_reply": "2024-09-25T09:26:34.601413Z"
    },
    "papermill": {
     "duration": 0.182104,
     "end_time": "2024-09-25T09:26:34.606091",
     "exception": false,
     "start_time": "2024-09-25T09:26:34.423987",
     "status": "completed"
    },
    "tags": []
   },
   "outputs": [],
   "source": [
    "df.createOrReplaceTempView('company')"
   ]
  },
  {
   "cell_type": "code",
   "execution_count": 11,
   "id": "643ecd17",
   "metadata": {
    "execution": {
     "iopub.execute_input": "2024-09-25T09:26:34.674401Z",
     "iopub.status.busy": "2024-09-25T09:26:34.673788Z",
     "iopub.status.idle": "2024-09-25T09:26:35.501686Z",
     "shell.execute_reply": "2024-09-25T09:26:35.500346Z"
    },
    "papermill": {
     "duration": 0.8656,
     "end_time": "2024-09-25T09:26:35.504753",
     "exception": false,
     "start_time": "2024-09-25T09:26:34.639153",
     "status": "completed"
    },
    "tags": []
   },
   "outputs": [
    {
     "name": "stdout",
     "output_type": "stream",
     "text": [
      "+---+\n",
      "|Age|\n",
      "+---+\n",
      "| 32|\n",
      "| 31|\n",
      "| 34|\n",
      "| 21|\n",
      "| 24|\n",
      "| 25|\n",
      "| 43|\n",
      "| 32|\n",
      "| 20|\n",
      "+---+\n",
      "\n",
      "+---------+\n",
      "|     Name|\n",
      "+---------+\n",
      "|     Adam|\n",
      "|     John|\n",
      "|    Chris|\n",
      "|  Charles|\n",
      "|     Paul|\n",
      "|    David|\n",
      "|  Indiana|\n",
      "|    Linda|\n",
      "|Elizabwth|\n",
      "+---------+\n",
      "\n",
      "+------+\n",
      "|Salary|\n",
      "+------+\n",
      "| 17000|\n",
      "| 16000|\n",
      "| 30000|\n",
      "| 12000|\n",
      "| 15000|\n",
      "| 15000|\n",
      "| 32000|\n",
      "| 17000|\n",
      "| 11000|\n",
      "+------+\n",
      "\n",
      "+----------+\n",
      "|Experience|\n",
      "+----------+\n",
      "|         8|\n",
      "|         7|\n",
      "|        10|\n",
      "|         3|\n",
      "|         5|\n",
      "|         5|\n",
      "|        12|\n",
      "|         8|\n",
      "|         2|\n",
      "+----------+\n",
      "\n"
     ]
    }
   ],
   "source": [
    "# Selecting The Age Column from table\n",
    "filtering_age = spark.sql('select Age from Company')\n",
    "filtering_age.show()\n",
    "\n",
    "# Selecting The Name Column from table\n",
    "filtering_name = spark.sql('select Name from Company')\n",
    "filtering_name.show()\n",
    "\n",
    "# Selecting The Salary Column from table\n",
    "filtering_salary = spark.sql('Select Salary from Company')\n",
    "filtering_salary.show()\n",
    "\n",
    "# Selecting The Experience Column from table\n",
    "filtering_experience = spark.sql('Select Experience from Company')\n",
    "filtering_experience.show()"
   ]
  },
  {
   "cell_type": "code",
   "execution_count": 12,
   "id": "68828340",
   "metadata": {
    "execution": {
     "iopub.execute_input": "2024-09-25T09:26:35.573973Z",
     "iopub.status.busy": "2024-09-25T09:26:35.573316Z",
     "iopub.status.idle": "2024-09-25T09:26:36.858869Z",
     "shell.execute_reply": "2024-09-25T09:26:36.857077Z"
    },
    "papermill": {
     "duration": 1.325285,
     "end_time": "2024-09-25T09:26:36.863020",
     "exception": false,
     "start_time": "2024-09-25T09:26:35.537735",
     "status": "completed"
    },
    "tags": []
   },
   "outputs": [
    {
     "name": "stdout",
     "output_type": "stream",
     "text": [
      "Age Greater than 30 Years!\n",
      "+---+\n",
      "|Age|\n",
      "+---+\n",
      "| 32|\n",
      "| 31|\n",
      "| 34|\n",
      "| 43|\n",
      "| 32|\n",
      "+---+\n",
      "\n",
      "Age lesser than 30 Years!\n",
      "+---+\n",
      "|Age|\n",
      "+---+\n",
      "| 21|\n",
      "| 24|\n",
      "| 25|\n",
      "| 20|\n",
      "+---+\n",
      "\n",
      "Experience Greater than 5 Years!\n",
      "+----------+\n",
      "|Experience|\n",
      "+----------+\n",
      "|         8|\n",
      "|         7|\n",
      "|        10|\n",
      "|        12|\n",
      "|         8|\n",
      "+----------+\n",
      "\n",
      "Experience Lesser than 5 Years!\n",
      "+----------+\n",
      "|Experience|\n",
      "+----------+\n",
      "|         3|\n",
      "|         2|\n",
      "+----------+\n",
      "\n",
      "Salary Greater than 15 Thousand!\n",
      "+------+\n",
      "|Salary|\n",
      "+------+\n",
      "| 17000|\n",
      "| 16000|\n",
      "| 30000|\n",
      "| 32000|\n",
      "| 17000|\n",
      "+------+\n",
      "\n",
      "Salary Lesser than 15 Thousand!\n",
      "+------+\n",
      "|Salary|\n",
      "+------+\n",
      "| 12000|\n",
      "| 11000|\n",
      "+------+\n",
      "\n"
     ]
    }
   ],
   "source": [
    "print('Age Greater than 30 Years!')\n",
    "age_greater_30 = spark.sql('Select Age from company where Age > 30')\n",
    "age_greater_30.show()\n",
    "\n",
    "print('Age lesser than 30 Years!')\n",
    "age_lesser_30 = spark.sql('Select Age from company where Age < 30')\n",
    "age_lesser_30.show()\n",
    "\n",
    "\n",
    "print('Experience Greater than 5 Years!')\n",
    "experience_greater_5 = spark.sql('Select Experience from company where Experience > 5')\n",
    "experience_greater_5.show()\n",
    "\n",
    "\n",
    "print('Experience Lesser than 5 Years!')\n",
    "experience_lesser_5 = spark.sql('Select Experience from Company where Experience < 5')\n",
    "experience_lesser_5.show()\n",
    "\n",
    "print('Salary Greater than 15 Thousand!')\n",
    "salary_greater_15k = spark.sql('Select Salary from company where Salary > 15000')\n",
    "salary_greater_15k.show()\n",
    "\n",
    "print('Salary Lesser than 15 Thousand!')\n",
    "salary_lesser_15k = spark.sql('Select Salary from company where Salary < 15000')\n",
    "salary_lesser_15k.show()"
   ]
  },
  {
   "cell_type": "code",
   "execution_count": 13,
   "id": "0ff15c73",
   "metadata": {
    "execution": {
     "iopub.execute_input": "2024-09-25T09:26:36.935149Z",
     "iopub.status.busy": "2024-09-25T09:26:36.934547Z",
     "iopub.status.idle": "2024-09-25T09:26:37.433326Z",
     "shell.execute_reply": "2024-09-25T09:26:37.431917Z"
    },
    "papermill": {
     "duration": 0.538357,
     "end_time": "2024-09-25T09:26:37.436586",
     "exception": false,
     "start_time": "2024-09-25T09:26:36.898229",
     "status": "completed"
    },
    "tags": []
   },
   "outputs": [
    {
     "name": "stdout",
     "output_type": "stream",
     "text": [
      "+----------+\n",
      "|total_rows|\n",
      "+----------+\n",
      "|         9|\n",
      "+----------+\n",
      "\n"
     ]
    }
   ],
   "source": [
    "count = spark.sql('Select Count(*) as total_rows from company')\n",
    "count.show()"
   ]
  },
  {
   "cell_type": "code",
   "execution_count": 14,
   "id": "76b5b6f9",
   "metadata": {
    "execution": {
     "iopub.execute_input": "2024-09-25T09:26:37.516071Z",
     "iopub.status.busy": "2024-09-25T09:26:37.515427Z",
     "iopub.status.idle": "2024-09-25T09:26:38.458547Z",
     "shell.execute_reply": "2024-09-25T09:26:38.457257Z"
    },
    "papermill": {
     "duration": 0.986136,
     "end_time": "2024-09-25T09:26:38.461513",
     "exception": false,
     "start_time": "2024-09-25T09:26:37.475377",
     "status": "completed"
    },
    "tags": []
   },
   "outputs": [
    {
     "name": "stdout",
     "output_type": "stream",
     "text": [
      "+----------+\n",
      "|count(Age)|\n",
      "+----------+\n",
      "|         9|\n",
      "+----------+\n",
      "\n",
      "+-----------+\n",
      "|count(Name)|\n",
      "+-----------+\n",
      "|          9|\n",
      "+-----------+\n",
      "\n",
      "+-------------+\n",
      "|count(Salary)|\n",
      "+-------------+\n",
      "|            9|\n",
      "+-------------+\n",
      "\n",
      "+-----------------+\n",
      "|count(Experience)|\n",
      "+-----------------+\n",
      "|                9|\n",
      "+-----------------+\n",
      "\n"
     ]
    }
   ],
   "source": [
    "count_age = spark.sql('Select Count(Age) from company')\n",
    "count_age.show()\n",
    "\n",
    "count_name = spark.sql('Select Count(Name) from company')\n",
    "count_name.show()\n",
    "\n",
    "count_salary = spark.sql('Select count(Salary) from company')\n",
    "count_salary.show()\n",
    "\n",
    "count_experience = spark.sql('select count(Experience) from company')\n",
    "count_experience.show()"
   ]
  },
  {
   "cell_type": "code",
   "execution_count": 15,
   "id": "d67b7de3",
   "metadata": {
    "execution": {
     "iopub.execute_input": "2024-09-25T09:26:38.513729Z",
     "iopub.status.busy": "2024-09-25T09:26:38.513241Z",
     "iopub.status.idle": "2024-09-25T09:26:38.682424Z",
     "shell.execute_reply": "2024-09-25T09:26:38.681147Z"
    },
    "papermill": {
     "duration": 0.198449,
     "end_time": "2024-09-25T09:26:38.685211",
     "exception": false,
     "start_time": "2024-09-25T09:26:38.486762",
     "status": "completed"
    },
    "tags": []
   },
   "outputs": [
    {
     "name": "stdout",
     "output_type": "stream",
     "text": [
      "+---------+---+----------+------+\n",
      "|     Name|Age|Experience|Salary|\n",
      "+---------+---+----------+------+\n",
      "|     Adam| 32|         8| 17000|\n",
      "|     John| 31|         7| 16000|\n",
      "|    Chris| 34|        10| 30000|\n",
      "|  Charles| 21|         3| 12000|\n",
      "|     Paul| 24|         5| 15000|\n",
      "|    David| 25|         5| 15000|\n",
      "|  Indiana| 43|        12| 32000|\n",
      "|    Linda| 32|         8| 17000|\n",
      "|Elizabwth| 20|         2| 11000|\n",
      "+---------+---+----------+------+\n",
      "\n"
     ]
    }
   ],
   "source": [
    "df = spark.sql('Select * from company')\n",
    "df.show()"
   ]
  },
  {
   "cell_type": "code",
   "execution_count": 16,
   "id": "f8437886",
   "metadata": {
    "execution": {
     "iopub.execute_input": "2024-09-25T09:26:38.737274Z",
     "iopub.status.busy": "2024-09-25T09:26:38.736839Z",
     "iopub.status.idle": "2024-09-25T09:26:39.192584Z",
     "shell.execute_reply": "2024-09-25T09:26:39.190326Z"
    },
    "papermill": {
     "duration": 0.486961,
     "end_time": "2024-09-25T09:26:39.197406",
     "exception": false,
     "start_time": "2024-09-25T09:26:38.710445",
     "status": "completed"
    },
    "tags": []
   },
   "outputs": [
    {
     "name": "stdout",
     "output_type": "stream",
     "text": [
      "Filtering Salary Based on Experience greater then or Equal to 10 Years!\n",
      "+------+\n",
      "|Salary|\n",
      "+------+\n",
      "| 30000|\n",
      "| 32000|\n",
      "+------+\n",
      "\n",
      "Filtering Names Based On Age greater then or equal to 30!\n",
      "+-------+\n",
      "|   Name|\n",
      "+-------+\n",
      "|   Adam|\n",
      "|   John|\n",
      "|  Chris|\n",
      "|Indiana|\n",
      "|  Linda|\n",
      "+-------+\n",
      "\n"
     ]
    }
   ],
   "source": [
    "print('Filtering Salary Based on Experience greater then or Equal to 10 Years!')\n",
    "filtering_salary_based_on_experience = spark.sql('Select Salary from company where Experience >= 10')\n",
    "filtering_salary_based_on_experience.show()\n",
    "\n",
    "\n",
    "print('Filtering Names Based On Age greater then or equal to 30!')\n",
    "filtering_age_based_on_name = spark.sql('Select Name from company where Age >= 30')\n",
    "filtering_age_based_on_name.show()"
   ]
  },
  {
   "cell_type": "code",
   "execution_count": 17,
   "id": "1132ac94",
   "metadata": {
    "execution": {
     "iopub.execute_input": "2024-09-25T09:26:39.296605Z",
     "iopub.status.busy": "2024-09-25T09:26:39.295784Z",
     "iopub.status.idle": "2024-09-25T09:26:39.923542Z",
     "shell.execute_reply": "2024-09-25T09:26:39.922445Z"
    },
    "papermill": {
     "duration": 0.68272,
     "end_time": "2024-09-25T09:26:39.926585",
     "exception": false,
     "start_time": "2024-09-25T09:26:39.243865",
     "status": "completed"
    },
    "tags": []
   },
   "outputs": [
    {
     "name": "stdout",
     "output_type": "stream",
     "text": [
      "Information Of People Who's Experience is Greater then 5 Years!\n",
      "+-------+---+----------+------+\n",
      "|   Name|Age|Experience|Salary|\n",
      "+-------+---+----------+------+\n",
      "|   Adam| 32|         8| 17000|\n",
      "|   John| 31|         7| 16000|\n",
      "|  Chris| 34|        10| 30000|\n",
      "|Indiana| 43|        12| 32000|\n",
      "|  Linda| 32|         8| 17000|\n",
      "+-------+---+----------+------+\n",
      "\n",
      "Information of Peples who's Age is greater than 30 Years!\n",
      "+-------+---+----------+------+\n",
      "|   Name|Age|Experience|Salary|\n",
      "+-------+---+----------+------+\n",
      "|   Adam| 32|         8| 17000|\n",
      "|   John| 31|         7| 16000|\n",
      "|  Chris| 34|        10| 30000|\n",
      "|Indiana| 43|        12| 32000|\n",
      "|  Linda| 32|         8| 17000|\n",
      "+-------+---+----------+------+\n",
      "\n"
     ]
    }
   ],
   "source": [
    "print(\"Information Of People Who's Experience is Greater then 5 Years!\")\n",
    "info_of_people_exper_greater_then_5 = spark.sql('Select * from company where Experience > 5')\n",
    "info_of_people_exper_greater_then_5.show()\n",
    "\n",
    "print(\"Information of Peples who's Age is greater than 30 Years!\")\n",
    "info_of_people_age_greater_than_30 = spark.sql('Select * from company where Age > 30')\n",
    "info_of_people_age_greater_than_30.show()"
   ]
  },
  {
   "cell_type": "markdown",
   "id": "b9ef2373",
   "metadata": {
    "papermill": {
     "duration": 0.036956,
     "end_time": "2024-09-25T09:26:40.001828",
     "exception": false,
     "start_time": "2024-09-25T09:26:39.964872",
     "status": "completed"
    },
    "tags": []
   },
   "source": [
    "# **Salary Manipulation**"
   ]
  },
  {
   "cell_type": "code",
   "execution_count": 18,
   "id": "cb8893e5",
   "metadata": {
    "execution": {
     "iopub.execute_input": "2024-09-25T09:26:40.076933Z",
     "iopub.status.busy": "2024-09-25T09:26:40.076472Z",
     "iopub.status.idle": "2024-09-25T09:26:41.425355Z",
     "shell.execute_reply": "2024-09-25T09:26:41.424222Z"
    },
    "papermill": {
     "duration": 1.389971,
     "end_time": "2024-09-25T09:26:41.428754",
     "exception": false,
     "start_time": "2024-09-25T09:26:40.038783",
     "status": "completed"
    },
    "tags": []
   },
   "outputs": [
    {
     "name": "stdout",
     "output_type": "stream",
     "text": [
      "Average Salary Of Peoples In Company!\n",
      "+------------------+\n",
      "|        Avg_Salary|\n",
      "+------------------+\n",
      "|18333.333333333332|\n",
      "+------------------+\n",
      "\n",
      "Max Salary of Peoples In Company!\n",
      "+----------+\n",
      "|Max_Salary|\n",
      "+----------+\n",
      "|     32000|\n",
      "+----------+\n",
      "\n",
      "Min Salary Of Poeples in Company!\n",
      "+----------+\n",
      "|Min_Salary|\n",
      "+----------+\n",
      "|     11000|\n",
      "+----------+\n",
      "\n",
      "Average Age of Peoples in Company!\n",
      "+-----------------+\n",
      "|     Avgerage_Age|\n",
      "+-----------------+\n",
      "|29.11111111111111|\n",
      "+-----------------+\n",
      "\n",
      "Max Age of Peoples in Company!\n",
      "+-------+\n",
      "|Max_Age|\n",
      "+-------+\n",
      "|     43|\n",
      "+-------+\n",
      "\n",
      "Min Age of Peoples in Company!\n",
      "+-------+\n",
      "|Min_Age|\n",
      "+-------+\n",
      "|     20|\n",
      "+-------+\n",
      "\n"
     ]
    }
   ],
   "source": [
    "print('Average Salary Of Peoples In Company!')\n",
    "avg_salary = spark.sql('select Avg(Salary) as Avg_Salary from company')\n",
    "avg_salary.show()\n",
    "\n",
    "print('Max Salary of Peoples In Company!')\n",
    "max_salary = spark.sql('Select max(Salary) as Max_Salary from company')\n",
    "max_salary.show()\n",
    "\n",
    "print('Min Salary Of Poeples in Company!')\n",
    "min_salary = spark.sql('Select min(Salary) as Min_Salary from Company')\n",
    "min_salary.show()\n",
    "\n",
    "print('Average Age of Peoples in Company!')\n",
    "avg_age = spark.sql(\"Select avg(Age) as Avgerage_Age from company\")\n",
    "avg_age.show()\n",
    "\n",
    "print('Max Age of Peoples in Company!')\n",
    "max_age = spark.sql('Select max(age) as Max_Age from company')\n",
    "max_age.show()\n",
    "\n",
    "print('Min Age of Peoples in Company!')\n",
    "min_age = spark.sql('select min(age) as Min_Age from company')\n",
    "min_age.show()\n",
    "\n"
   ]
  },
  {
   "cell_type": "markdown",
   "id": "bde3eaf3",
   "metadata": {
    "papermill": {
     "duration": 0.036814,
     "end_time": "2024-09-25T09:26:41.514393",
     "exception": false,
     "start_time": "2024-09-25T09:26:41.477579",
     "status": "completed"
    },
    "tags": []
   },
   "source": [
    "# **Adding Bonus Column**"
   ]
  },
  {
   "cell_type": "code",
   "execution_count": 19,
   "id": "9c3cf796",
   "metadata": {
    "execution": {
     "iopub.execute_input": "2024-09-25T09:26:41.608029Z",
     "iopub.status.busy": "2024-09-25T09:26:41.607521Z",
     "iopub.status.idle": "2024-09-25T09:26:42.110546Z",
     "shell.execute_reply": "2024-09-25T09:26:42.107698Z"
    },
    "papermill": {
     "duration": 0.5471,
     "end_time": "2024-09-25T09:26:42.114799",
     "exception": false,
     "start_time": "2024-09-25T09:26:41.567699",
     "status": "completed"
    },
    "tags": []
   },
   "outputs": [
    {
     "name": "stdout",
     "output_type": "stream",
     "text": [
      "+---------+---+----------+------+------+\n",
      "|     Name|Age|Experience|Salary| Bonus|\n",
      "+---------+---+----------+------+------+\n",
      "|     Adam| 32|         8| 17000| 85000|\n",
      "|     John| 31|         7| 16000| 80000|\n",
      "|    Chris| 34|        10| 30000|150000|\n",
      "|  Charles| 21|         3| 12000| 60000|\n",
      "|     Paul| 24|         5| 15000| 75000|\n",
      "|    David| 25|         5| 15000| 75000|\n",
      "|  Indiana| 43|        12| 32000|160000|\n",
      "|    Linda| 32|         8| 17000| 85000|\n",
      "|Elizabwth| 20|         2| 11000| 55000|\n",
      "+---------+---+----------+------+------+\n",
      "\n"
     ]
    }
   ],
   "source": [
    "adding_bonus = spark.sql('Select *, Salary * 5 as Bonus from company!')\n",
    "adding_bonus.show()"
   ]
  },
  {
   "cell_type": "markdown",
   "id": "7ee87e2f",
   "metadata": {
    "papermill": {
     "duration": 0.038724,
     "end_time": "2024-09-25T09:26:42.195076",
     "exception": false,
     "start_time": "2024-09-25T09:26:42.156352",
     "status": "completed"
    },
    "tags": []
   },
   "source": [
    "# **Salary Manipulation**"
   ]
  },
  {
   "cell_type": "code",
   "execution_count": 20,
   "id": "407fab02",
   "metadata": {
    "execution": {
     "iopub.execute_input": "2024-09-25T09:26:42.273153Z",
     "iopub.status.busy": "2024-09-25T09:26:42.272622Z",
     "iopub.status.idle": "2024-09-25T09:26:43.231529Z",
     "shell.execute_reply": "2024-09-25T09:26:43.230275Z"
    },
    "papermill": {
     "duration": 1.002207,
     "end_time": "2024-09-25T09:26:43.235356",
     "exception": false,
     "start_time": "2024-09-25T09:26:42.233149",
     "status": "completed"
    },
    "tags": []
   },
   "outputs": [
    {
     "name": "stdout",
     "output_type": "stream",
     "text": [
      "Total Salary!\n",
      "+------------+\n",
      "|Total_Salary|\n",
      "+------------+\n",
      "|      165000|\n",
      "+------------+\n",
      "\n",
      "Average Salary!\n",
      "+------------------+\n",
      "|        Avg_Salary|\n",
      "+------------------+\n",
      "|18333.333333333332|\n",
      "+------------------+\n",
      "\n",
      "Min Salary!\n",
      "+----------+\n",
      "|Min_Salary|\n",
      "+----------+\n",
      "|     11000|\n",
      "+----------+\n",
      "\n",
      "Max Salary!\n",
      "+----------+\n",
      "|Max_Salary|\n",
      "+----------+\n",
      "|     32000|\n",
      "+----------+\n",
      "\n"
     ]
    }
   ],
   "source": [
    "print('Total Salary!')\n",
    "total_salary = spark.sql('Select SUM(Salary) as Total_Salary from company')\n",
    "total_salary.show()\n",
    "\n",
    "print('Average Salary!')\n",
    "avg_salary = spark.sql('Select avg(Salary) as Avg_Salary from company')\n",
    "avg_salary.show()\n",
    "\n",
    "print(\"Min Salary!\")\n",
    "min_salary = spark.sql('Select min(Salary) as Min_Salary from company')\n",
    "min_salary.show()\n",
    "\n",
    "print('Max Salary!')\n",
    "max_salary = spark.sql('Select Max(Salary) as Max_Salary from company')\n",
    "max_salary.show()"
   ]
  },
  {
   "cell_type": "markdown",
   "id": "b9db1ed5",
   "metadata": {
    "papermill": {
     "duration": 0.030884,
     "end_time": "2024-09-25T09:26:43.305025",
     "exception": false,
     "start_time": "2024-09-25T09:26:43.274141",
     "status": "completed"
    },
    "tags": []
   },
   "source": [
    "# **Experience Manipulation**"
   ]
  },
  {
   "cell_type": "code",
   "execution_count": 21,
   "id": "5d0009f7",
   "metadata": {
    "execution": {
     "iopub.execute_input": "2024-09-25T09:26:43.362746Z",
     "iopub.status.busy": "2024-09-25T09:26:43.362304Z",
     "iopub.status.idle": "2024-09-25T09:26:44.084651Z",
     "shell.execute_reply": "2024-09-25T09:26:44.083470Z"
    },
    "papermill": {
     "duration": 0.754006,
     "end_time": "2024-09-25T09:26:44.088158",
     "exception": false,
     "start_time": "2024-09-25T09:26:43.334152",
     "status": "completed"
    },
    "tags": []
   },
   "outputs": [
    {
     "name": "stdout",
     "output_type": "stream",
     "text": [
      "Total Experience!\n",
      "+----------------+\n",
      "|Total_Experience|\n",
      "+----------------+\n",
      "|              60|\n",
      "+----------------+\n",
      "\n",
      "Average Experience!\n",
      "+-------------------+\n",
      "|Avgerage_Experience|\n",
      "+-------------------+\n",
      "|  6.666666666666667|\n",
      "+-------------------+\n",
      "\n",
      "Min Experience\n",
      "+--------------+\n",
      "|Min_Experience|\n",
      "+--------------+\n",
      "|             2|\n",
      "+--------------+\n",
      "\n",
      "Max Experience!\n",
      "+--------------+\n",
      "|Max_Experience|\n",
      "+--------------+\n",
      "|            12|\n",
      "+--------------+\n",
      "\n"
     ]
    }
   ],
   "source": [
    "print('Total Experience!')\n",
    "total_experi = spark.sql('Select SUM(Experience) as Total_Experience from company')\n",
    "total_experi.show()\n",
    "\n",
    "print('Average Experience!')\n",
    "avg_experi = spark.sql('Select avg(Experience) as Avgerage_Experience from company')\n",
    "avg_experi.show()\n",
    "\n",
    "print('Min Experience')\n",
    "min_experi = spark.sql('Select min(Experience) as Min_Experience from company')\n",
    "min_experi.show()\n",
    "\n",
    "print('Max Experience!')\n",
    "max_experi = spark.sql('Select max(Experience) as Max_Experience from company')\n",
    "max_experi.show()"
   ]
  },
  {
   "cell_type": "markdown",
   "id": "52753720",
   "metadata": {
    "papermill": {
     "duration": 0.040223,
     "end_time": "2024-09-25T09:26:44.170372",
     "exception": false,
     "start_time": "2024-09-25T09:26:44.130149",
     "status": "completed"
    },
    "tags": []
   },
   "source": [
    "# **Age Manipulation**"
   ]
  },
  {
   "cell_type": "code",
   "execution_count": 22,
   "id": "be464cd7",
   "metadata": {
    "execution": {
     "iopub.execute_input": "2024-09-25T09:26:44.252359Z",
     "iopub.status.busy": "2024-09-25T09:26:44.251066Z",
     "iopub.status.idle": "2024-09-25T09:26:44.821073Z",
     "shell.execute_reply": "2024-09-25T09:26:44.819706Z"
    },
    "papermill": {
     "duration": 0.613848,
     "end_time": "2024-09-25T09:26:44.824384",
     "exception": false,
     "start_time": "2024-09-25T09:26:44.210536",
     "status": "completed"
    },
    "tags": []
   },
   "outputs": [
    {
     "name": "stdout",
     "output_type": "stream",
     "text": [
      "Total Age!\n",
      "+---------+\n",
      "|Total_Age|\n",
      "+---------+\n",
      "|      262|\n",
      "+---------+\n",
      "\n",
      "Average Age!\n",
      "+-----------------+\n",
      "|          Avg_Age|\n",
      "+-----------------+\n",
      "|29.11111111111111|\n",
      "+-----------------+\n",
      "\n",
      "Max Age!\n",
      "+-------+\n",
      "|Max_Age|\n",
      "+-------+\n",
      "|     43|\n",
      "+-------+\n",
      "\n",
      "Min Age!\n",
      "+-------+\n",
      "|Min_Age|\n",
      "+-------+\n",
      "|     20|\n",
      "+-------+\n",
      "\n"
     ]
    }
   ],
   "source": [
    "print('Total Age!')\n",
    "total_age = spark.sql('Select sum(Age) as Total_Age from company')\n",
    "total_age.show()\n",
    "\n",
    "print('Average Age!')\n",
    "avg_age = spark.sql('Select avg(Age) as Avg_Age from company')\n",
    "avg_age.show()\n",
    "\n",
    "print('Max Age!')\n",
    "max_age = spark.sql('Select max(Age) as Max_Age from company')\n",
    "max_age.show()\n",
    "\n",
    "print('Min Age!')\n",
    "min_age = spark.sql('Select min(Age) as Min_Age from company')\n",
    "min_age.show()"
   ]
  },
  {
   "cell_type": "code",
   "execution_count": 23,
   "id": "401ed4f8",
   "metadata": {
    "execution": {
     "iopub.execute_input": "2024-09-25T09:26:44.906475Z",
     "iopub.status.busy": "2024-09-25T09:26:44.904851Z",
     "iopub.status.idle": "2024-09-25T09:26:45.008288Z",
     "shell.execute_reply": "2024-09-25T09:26:45.007246Z"
    },
    "papermill": {
     "duration": 0.148139,
     "end_time": "2024-09-25T09:26:45.011635",
     "exception": false,
     "start_time": "2024-09-25T09:26:44.863496",
     "status": "completed"
    },
    "tags": []
   },
   "outputs": [
    {
     "name": "stdout",
     "output_type": "stream",
     "text": [
      "+---------+---+----------+------+\n",
      "|     Name|Age|Experience|Salary|\n",
      "+---------+---+----------+------+\n",
      "|     Adam| 32|         8| 17000|\n",
      "|     John| 31|         7| 16000|\n",
      "|    Chris| 34|        10| 30000|\n",
      "|  Charles| 21|         3| 12000|\n",
      "|     Paul| 24|         5| 15000|\n",
      "|    David| 25|         5| 15000|\n",
      "|  Indiana| 43|        12| 32000|\n",
      "|    Linda| 32|         8| 17000|\n",
      "|Elizabwth| 20|         2| 11000|\n",
      "+---------+---+----------+------+\n",
      "\n"
     ]
    }
   ],
   "source": [
    "df.show()"
   ]
  },
  {
   "cell_type": "code",
   "execution_count": 24,
   "id": "b8c6145d",
   "metadata": {
    "execution": {
     "iopub.execute_input": "2024-09-25T09:26:45.080819Z",
     "iopub.status.busy": "2024-09-25T09:26:45.080033Z",
     "iopub.status.idle": "2024-09-25T09:26:45.290832Z",
     "shell.execute_reply": "2024-09-25T09:26:45.288873Z"
    },
    "papermill": {
     "duration": 0.244242,
     "end_time": "2024-09-25T09:26:45.294304",
     "exception": false,
     "start_time": "2024-09-25T09:26:45.050062",
     "status": "completed"
    },
    "tags": []
   },
   "outputs": [
    {
     "name": "stdout",
     "output_type": "stream",
     "text": [
      "+---------+---+----------+------+---------------+\n",
      "|     Name|Age|Experience|Salary|Salary_Category|\n",
      "+---------+---+----------+------+---------------+\n",
      "|     Adam| 32|         8| 17000|    High Salary|\n",
      "|     John| 31|         7| 16000|    High Salary|\n",
      "|    Chris| 34|        10| 30000|    High Salary|\n",
      "|  Charles| 21|         3| 12000|     Low Salary|\n",
      "|     Paul| 24|         5| 15000|     Low Salary|\n",
      "|    David| 25|         5| 15000|     Low Salary|\n",
      "|  Indiana| 43|        12| 32000|    High Salary|\n",
      "|    Linda| 32|         8| 17000|    High Salary|\n",
      "|Elizabwth| 20|         2| 11000|     Low Salary|\n",
      "+---------+---+----------+------+---------------+\n",
      "\n"
     ]
    }
   ],
   "source": [
    "adding_salary_category_df = df.withColumn('Salary_Category', when (col('Salary') > 15000, \"High Salary\").otherwise('Low Salary'))\n",
    "adding_salary_category_df.show()"
   ]
  },
  {
   "cell_type": "code",
   "execution_count": 25,
   "id": "d5cf297f",
   "metadata": {
    "execution": {
     "iopub.execute_input": "2024-09-25T09:26:45.391711Z",
     "iopub.status.busy": "2024-09-25T09:26:45.391190Z",
     "iopub.status.idle": "2024-09-25T09:26:45.568305Z",
     "shell.execute_reply": "2024-09-25T09:26:45.567197Z"
    },
    "papermill": {
     "duration": 0.223766,
     "end_time": "2024-09-25T09:26:45.571919",
     "exception": false,
     "start_time": "2024-09-25T09:26:45.348153",
     "status": "completed"
    },
    "tags": []
   },
   "outputs": [
    {
     "name": "stdout",
     "output_type": "stream",
     "text": [
      "+---------+---+----------+------+---------------+-------------------+\n",
      "|     Name|Age|Experience|Salary|Salary_Category|Experience_Category|\n",
      "+---------+---+----------+------+---------------+-------------------+\n",
      "|     Adam| 32|         8| 17000|    High Salary|             Senior|\n",
      "|     John| 31|         7| 16000|    High Salary|             Senior|\n",
      "|    Chris| 34|        10| 30000|    High Salary|             Senior|\n",
      "|  Charles| 21|         3| 12000|     Low Salary|             Junior|\n",
      "|     Paul| 24|         5| 15000|     Low Salary|             Junior|\n",
      "|    David| 25|         5| 15000|     Low Salary|             Junior|\n",
      "|  Indiana| 43|        12| 32000|    High Salary|             Senior|\n",
      "|    Linda| 32|         8| 17000|    High Salary|             Senior|\n",
      "|Elizabwth| 20|         2| 11000|     Low Salary|             Junior|\n",
      "+---------+---+----------+------+---------------+-------------------+\n",
      "\n"
     ]
    }
   ],
   "source": [
    "adding_experience_category_df = adding_salary_category_df.withColumn('Experience_Category', when (col('Experience') > 5, 'Senior').otherwise('Junior'))\n",
    "adding_experience_category_df.show()"
   ]
  },
  {
   "cell_type": "code",
   "execution_count": 26,
   "id": "08e1f462",
   "metadata": {
    "execution": {
     "iopub.execute_input": "2024-09-25T09:26:45.638357Z",
     "iopub.status.busy": "2024-09-25T09:26:45.637358Z",
     "iopub.status.idle": "2024-09-25T09:26:45.806694Z",
     "shell.execute_reply": "2024-09-25T09:26:45.805557Z"
    },
    "papermill": {
     "duration": 0.202592,
     "end_time": "2024-09-25T09:26:45.810535",
     "exception": false,
     "start_time": "2024-09-25T09:26:45.607943",
     "status": "completed"
    },
    "tags": []
   },
   "outputs": [
    {
     "name": "stdout",
     "output_type": "stream",
     "text": [
      "+---------+---+----------+------+---------------+-------------------+----------------+\n",
      "|     Name|Age|Experience|Salary|Salary_Category|Experience_Category|    Age_Category|\n",
      "+---------+---+----------+------+---------------+-------------------+----------------+\n",
      "|     Adam| 32|         8| 17000|    High Salary|             Senior| Senior Employee|\n",
      "|     John| 31|         7| 16000|    High Salary|             Senior| Senior Employee|\n",
      "|    Chris| 34|        10| 30000|    High Salary|             Senior| Senior Employee|\n",
      "|  Charles| 21|         3| 12000|     Low Salary|             Junior|Junior Employees|\n",
      "|     Paul| 24|         5| 15000|     Low Salary|             Junior|Junior Employees|\n",
      "|    David| 25|         5| 15000|     Low Salary|             Junior|Junior Employees|\n",
      "|  Indiana| 43|        12| 32000|    High Salary|             Senior| Senior Employee|\n",
      "|    Linda| 32|         8| 17000|    High Salary|             Senior| Senior Employee|\n",
      "|Elizabwth| 20|         2| 11000|     Low Salary|             Junior|Junior Employees|\n",
      "+---------+---+----------+------+---------------+-------------------+----------------+\n",
      "\n"
     ]
    }
   ],
   "source": [
    "adding_age_category_df = adding_experience_category_df.withColumn(\"Age_Category\", when (col('Age') > 30, 'Senior Employee').otherwise('Junior Employees'))\n",
    "adding_age_category_df.show()"
   ]
  },
  {
   "cell_type": "code",
   "execution_count": null,
   "id": "226916d1",
   "metadata": {
    "papermill": {
     "duration": 0.038094,
     "end_time": "2024-09-25T09:26:45.889821",
     "exception": false,
     "start_time": "2024-09-25T09:26:45.851727",
     "status": "completed"
    },
    "tags": []
   },
   "outputs": [],
   "source": []
  }
 ],
 "metadata": {
  "kaggle": {
   "accelerator": "none",
   "dataSources": [
    {
     "datasetId": 5654092,
     "sourceId": 9331596,
     "sourceType": "datasetVersion"
    }
   ],
   "dockerImageVersionId": 30761,
   "isGpuEnabled": false,
   "isInternetEnabled": true,
   "language": "python",
   "sourceType": "notebook"
  },
  "kernelspec": {
   "display_name": "Python 3",
   "language": "python",
   "name": "python3"
  },
  "language_info": {
   "codemirror_mode": {
    "name": "ipython",
    "version": 3
   },
   "file_extension": ".py",
   "mimetype": "text/x-python",
   "name": "python",
   "nbconvert_exporter": "python",
   "pygments_lexer": "ipython3",
   "version": "3.10.14"
  },
  "papermill": {
   "default_parameters": {},
   "duration": 93.045664,
   "end_time": "2024-09-25T09:26:48.540307",
   "environment_variables": {},
   "exception": null,
   "input_path": "__notebook__.ipynb",
   "output_path": "__notebook__.ipynb",
   "parameters": {},
   "start_time": "2024-09-25T09:25:15.494643",
   "version": "2.6.0"
  }
 },
 "nbformat": 4,
 "nbformat_minor": 5
}
